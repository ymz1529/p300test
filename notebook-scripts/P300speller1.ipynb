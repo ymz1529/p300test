{
  "nbformat": 4,
  "nbformat_minor": 0,
  "metadata": {
    "colab": {
      "name": "P300speller.ipynb",
      "provenance": [],
      "include_colab_link": true
    },
    "kernelspec": {
      "name": "python3",
      "display_name": "Python 3"
    },
    "accelerator": "GPU"
  },
  "cells": [
    {
      "cell_type": "markdown",
      "metadata": {
        "id": "view-in-github",
        "colab_type": "text"
      },
      "source": [
        "<a href=\"https://colab.research.google.com/github/ymz1529/p300test/blob/main/notebook-scripts/P300speller1.ipynb\" target=\"_parent\"><img src=\"https://colab.research.google.com/assets/colab-badge.svg\" alt=\"Open In Colab\"/></a>"
      ]
    },
    {
      "cell_type": "markdown",
      "metadata": {
        "id": "Kiqnx3ZngW6q"
      },
      "source": [
        "#P300 SPELLER SETTINGS\n",
        "\n",
        "TRAINED MODEL SELECTION:                                                                                                   \n",
        "- **CNN1**  :  trained on the whole trainset without balancing;                                                               \n",
        "- **CNN2a** :  uses 8 channels EEG signals [FZ, CZ, PZ, P3, P4, PO7, PO8, and OZ];                                            \n",
        "- **CNN2b** :  same as CNN2a but channels are selected by looking at the filters' weights in layer 1 of CNN1;\n",
        "- **CNN2c** :  same as CNN2a but channels are selected by topological area;              \n",
        "- **CNN3**  :  same as CNN1 but uses only 1 filter in layer 1 instead of 10;                                                       \n",
        "- **MCNN1** :  multiclassifier of 5 CNN1 each trained over 5 different balanced trainsets;                                    \n",
        "- **MCNN2** :  multiclassifier of 5 CNN1 each trained over consecutive datasets obtained by splitting the trainset into 5;    \n",
        "- **MCNN3** :  multiclassifier of 3 CNN1 trained without trainset balancing and with randomized weights inizialization;       \n",
        "                                                                                                                             \n",
        "SUBJECT'S DATA SELECTION:                                                                                                  \n",
        "- **A**: Signal samples: 7794, EEG channels: 64, Testset letters: 100;                                                        \n",
        "- **B**: Signal samples: 7794, EEG channels: 64, Testset letters: 100;                                                          \n",
        "                                                                                                                                                   \n",
        "ELECTRODE SUBSET SELECTION (CNN2c only, other models use predefined channels):                                                                                                \n",
        "- **F**: Frontal lobe electrodes;                                                                                \n",
        "- **C**: Central lobe electrodes;                                                                                               \n",
        "- **P**: Parietal lobe electrodes;                                                                                             \n",
        "- **O**: Occipital lobe electrodes;                                                                                            \n",
        "- **LT**: Left temporal lobe electrodes;                                                                                       \n",
        "- **RT**: Right temporal lobe electrodes;  "
      ]
    },
    {
      "cell_type": "code",
      "metadata": {
        "id": "323lqvcHyY5G",
        "outputId": "7d3b8f66-a733-4a10-bb1d-0fca96b362db",
        "colab": {
          "base_uri": "https://localhost:8080/"
        }
      },
      "source": [
        "import matplotlib.pyplot as plt\n",
        "import seaborn as sns\n",
        "import pandas as pd\n",
        "import numpy as np\n",
        "import random\n",
        "from scipy.io import loadmat\n",
        "from scipy import signal\n",
        "from google.colab import drive\n",
        "import warnings\n",
        "import string\n",
        "import os\n",
        "\n",
        "from keras.layers import *\n",
        "from keras.models import Model\n",
        "from keras import backend as K\n",
        "from keras import Sequential\n",
        "from keras.callbacks import ModelCheckpoint\n",
        "from keras.callbacks import EarlyStopping\n",
        "from sklearn.metrics import confusion_matrix\n",
        "from sklearn.preprocessing import scale\n",
        "from sklearn.preprocessing import MinMaxScaler\n",
        "\n",
        "# Install mne library for topoplot\n",
        "!pip install mne\n",
        "import mne\n",
        "\n",
        "warnings.filterwarnings('ignore')\n",
        "drive.mount('/content/drive')\n",
        "\n",
        "####################### SETTINGS ########################\n",
        "# Set this variable with the desidered model's name     #\n",
        "MODEL_SELECTED = \"CNN1\"                                #\n",
        "#                                                       #\n",
        "# Set this variable with the desidered subject's letter #\n",
        "SUBJECT_SELECTED = \"B\"                                  #\n",
        "#                                                       #\n",
        "# Set this variable with the desired electrode subset   #\n",
        "ELECTRODE_SELECTED = \"O\" # CNN2c only                   #\n",
        "#########################################################\n",
        "\n",
        "model_names = [\"CNN1\", \"CNN2a\", \"CNN2b\", \"CNN2c\", \"CNN3\", \"MCNN1\", \"MCNN2\", \"MCNN3\"]\n",
        "subject_names = [\"A\", \"B\"]\n",
        "electrode_names = [\"F\", \"C\", \"P\", \"O\", \"LT\", \"RT\"]\n",
        "\n",
        "# Check for errors in the settings\n",
        "if MODEL_SELECTED not in model_names:\n",
        "    raise ValueError(\"MODEL_SELECTED value {} is invalid.\\nPlease enter one of the following parameters {}\".format(MODEL_SELECTED, model_names))\n",
        "elif SUBJECT_SELECTED not in subject_names:\n",
        "    raise ValueError(\"SUBJECT_SELECTED value {} is invalid.\\nPlease enter one of the following parameters {}\".format(SUBJECT_SELECTED, subject_names))\n",
        "elif MODEL_SELECTED == \"CNN2c\" and ELECTRODE_SELECTED not in electrode_names:\n",
        "    raise ValueError(\"ELECTRODE_SELECTED value {} is invalid\\nPlease enter one of the following parameters {}\".format(ELECTRODE_SELECTED, electrodes_names))\n",
        "\n",
        "# Google drive data paths\n",
        "MODEL_LOCATIONS_FILE_PATH = 'drive/My Drive/AY1920_DT_P300_SPELLER_03/Trained_models/' + MODEL_SELECTED + '/' + SUBJECT_SELECTED\n",
        "SUBJECT_TRAIN_FILE_PATH = 'drive/My Drive/AY1920_DT_P300_SPELLER_03/Dataset/Subject_' + SUBJECT_SELECTED + '_Train.mat'\n",
        "SUBJECT_TEST_FILE_PATH = 'drive/My Drive/AY1920_DT_P300_SPELLER_03/Dataset/Subject_' + SUBJECT_SELECTED + '_Test.mat'\n",
        "CHANNEL_LOCATIONS_FILE_PATH = 'drive/My Drive/AY1920_DT_P300_SPELLER_03/Dataset/channels.csv'\n",
        "CHANNEL_COORD = 'drive/My Drive/AY1920_DT_P300_SPELLER_03/Dataset/coordinates.csv'\n",
        "\n",
        "# Channel selection\n",
        "if MODEL_SELECTED == \"CNN2a\":\n",
        "    CHANNELS = [10, 33, 48, 50, 52, 55, 59, 61]\n",
        "\n",
        "elif MODEL_SELECTED == \"CNN2b\":\n",
        "    if SUBJECT_SELECTED == \"A\":\n",
        "        CHANNELS = [10, 14, 17, 50, 55, 57, 59, 60]\n",
        "    elif SUBJECT_SELECTED == \"B\":\n",
        "        CHANNELS = [17, 50, 55, 56, 57, 58, 59, 60]\n",
        "\n",
        "elif MODEL_SELECTED == \"CNN2c\":\n",
        "    if ELECTRODE_SELECTED == \"F\":\n",
        "        CHANNELS = [21, 22, 23, 24, 25, 26, 27, 28, 29, 30, 31, 32, 33, 34, 35, 36, 37]\n",
        "    elif ELECTRODE_SELECTED == \"C\":\n",
        "        CHANNELS = [0, 1, 2, 3, 4, 5, 6, 7, 8, 9, 10, 11, 12, 13]\n",
        "    elif ELECTRODE_SELECTED == \"P\":\n",
        "        CHANNELS = [15, 16, 17, 18, 19, 48, 49, 50, 51, 52]\n",
        "    elif ELECTRODE_SELECTED == \"O\":\n",
        "        CHANNELS = [55, 56, 57, 58, 59, 60, 61, 62]\n",
        "    elif ELECTRODE_SELECTED == \"LT\":\n",
        "        CHANNELS = [14, 38, 40, 44, 46, 47]\n",
        "    elif ELECTRODE_SELECTED == \"RT\":\n",
        "        CHANNELS = [20, 39, 41, 45, 53, 54]\n",
        "\n",
        "else:\n",
        "    CHANNELS = [i for i in range(64)]"
      ],
      "execution_count": 36,
      "outputs": [
        {
          "output_type": "stream",
          "name": "stdout",
          "text": [
            "Requirement already satisfied: mne in /usr/local/lib/python3.10/dist-packages (1.8.0)\n",
            "Requirement already satisfied: decorator in /usr/local/lib/python3.10/dist-packages (from mne) (4.4.2)\n",
            "Requirement already satisfied: jinja2 in /usr/local/lib/python3.10/dist-packages (from mne) (3.1.4)\n",
            "Requirement already satisfied: lazy-loader>=0.3 in /usr/local/lib/python3.10/dist-packages (from mne) (0.4)\n",
            "Requirement already satisfied: matplotlib>=3.6 in /usr/local/lib/python3.10/dist-packages (from mne) (3.8.0)\n",
            "Requirement already satisfied: numpy<3,>=1.23 in /usr/local/lib/python3.10/dist-packages (from mne) (1.26.4)\n",
            "Requirement already satisfied: packaging in /usr/local/lib/python3.10/dist-packages (from mne) (24.2)\n",
            "Requirement already satisfied: pooch>=1.5 in /usr/local/lib/python3.10/dist-packages (from mne) (1.8.2)\n",
            "Requirement already satisfied: scipy>=1.9 in /usr/local/lib/python3.10/dist-packages (from mne) (1.13.1)\n",
            "Requirement already satisfied: tqdm in /usr/local/lib/python3.10/dist-packages (from mne) (4.66.6)\n",
            "Requirement already satisfied: contourpy>=1.0.1 in /usr/local/lib/python3.10/dist-packages (from matplotlib>=3.6->mne) (1.3.0)\n",
            "Requirement already satisfied: cycler>=0.10 in /usr/local/lib/python3.10/dist-packages (from matplotlib>=3.6->mne) (0.12.1)\n",
            "Requirement already satisfied: fonttools>=4.22.0 in /usr/local/lib/python3.10/dist-packages (from matplotlib>=3.6->mne) (4.54.1)\n",
            "Requirement already satisfied: kiwisolver>=1.0.1 in /usr/local/lib/python3.10/dist-packages (from matplotlib>=3.6->mne) (1.4.7)\n",
            "Requirement already satisfied: pillow>=6.2.0 in /usr/local/lib/python3.10/dist-packages (from matplotlib>=3.6->mne) (11.0.0)\n",
            "Requirement already satisfied: pyparsing>=2.3.1 in /usr/local/lib/python3.10/dist-packages (from matplotlib>=3.6->mne) (3.2.0)\n",
            "Requirement already satisfied: python-dateutil>=2.7 in /usr/local/lib/python3.10/dist-packages (from matplotlib>=3.6->mne) (2.8.2)\n",
            "Requirement already satisfied: platformdirs>=2.5.0 in /usr/local/lib/python3.10/dist-packages (from pooch>=1.5->mne) (4.3.6)\n",
            "Requirement already satisfied: requests>=2.19.0 in /usr/local/lib/python3.10/dist-packages (from pooch>=1.5->mne) (2.32.3)\n",
            "Requirement already satisfied: MarkupSafe>=2.0 in /usr/local/lib/python3.10/dist-packages (from jinja2->mne) (3.0.2)\n",
            "Requirement already satisfied: six>=1.5 in /usr/local/lib/python3.10/dist-packages (from python-dateutil>=2.7->matplotlib>=3.6->mne) (1.16.0)\n",
            "Requirement already satisfied: charset-normalizer<4,>=2 in /usr/local/lib/python3.10/dist-packages (from requests>=2.19.0->pooch>=1.5->mne) (3.4.0)\n",
            "Requirement already satisfied: idna<4,>=2.5 in /usr/local/lib/python3.10/dist-packages (from requests>=2.19.0->pooch>=1.5->mne) (3.10)\n",
            "Requirement already satisfied: urllib3<3,>=1.21.1 in /usr/local/lib/python3.10/dist-packages (from requests>=2.19.0->pooch>=1.5->mne) (2.2.3)\n",
            "Requirement already satisfied: certifi>=2017.4.17 in /usr/local/lib/python3.10/dist-packages (from requests>=2.19.0->pooch>=1.5->mne) (2024.8.30)\n",
            "Drive already mounted at /content/drive; to attempt to forcibly remount, call drive.mount(\"/content/drive\", force_remount=True).\n"
          ]
        }
      ]
    },
    {
      "cell_type": "markdown",
      "metadata": {
        "id": "z1-dtttM8RZ6"
      },
      "source": [
        "# Testing set processing\n",
        "\n",
        "1.   Application of bandpass filter **(0.1-20Hz)**;\n",
        "2.   Down-sampling signas from 240Hz to 120Hz;\n",
        "3.   Obtain windows of 650ms at the start of every flashing (175ms)\n",
        "4.   Normalization of samples in each window: **Zi = (Xi - mu) / sigma**;\n",
        "5.   Reshape each window to be a 3D tensor with dimensions: **(N_SAMPLES, 78, N_CHANNELS)**;\n",
        "6.   Calculate weights vector to balance samples importance and obtain correct accuracy estimation;"
      ]
    },
    {
      "cell_type": "code",
      "metadata": {
        "id": "Ixo-Xq-iydWG",
        "outputId": "5c2a4a88-94e3-44c4-bb20-90754c6ab61f",
        "colab": {
          "base_uri": "https://localhost:8080/"
        }
      },
      "source": [
        "# Test data loading\n",
        "if not os.path.exists(SUBJECT_TEST_FILE_PATH):\n",
        "    print(\"Missing file: {}\".format(SUBJECT_TEST_FILE_PATH))\n",
        "else:\n",
        "    # Load the required data\n",
        "    data_test = loadmat(SUBJECT_TEST_FILE_PATH)\n",
        "    # Get the variables of interest from the loaded dictionary\n",
        "    signals_test = data_test['Signal']\n",
        "    signals_test = signals_test[:, :, CHANNELS]\n",
        "\n",
        "    flashing_test = data_test['Flashing']\n",
        "    word_test =  data_test['TargetChar']\n",
        "    stimulus_code_test = data_test['StimulusCode']\n",
        "\n",
        "    SAMPLING_FREQUENCY = 240\n",
        "    # From the dataset description we know that there are 15 repetitions\n",
        "    REPETITIONS = 15\n",
        "    # Compute the duration of the recording in minutes\n",
        "    RECORDING_DURATION_TEST = (len(signals_test))*(len(signals_test[0]))/(SAMPLING_FREQUENCY*60)\n",
        "    # Compute number of trials\n",
        "    TRIALS_TEST = len(word_test[0])\n",
        "    # Number of samples for each character in trials\n",
        "    SAMPLES_PER_TRIAL_TEST = len(signals_test[0])\n",
        "\n",
        "    print(\"**********************************\")\n",
        "    print(\"        TEST SET INFORMATION      \")\n",
        "    print(\"**********************************\")\n",
        "    print(\"Sampling Frequency: %d Hz [%.2f ms]\" % (SAMPLING_FREQUENCY, (1000/SAMPLING_FREQUENCY)))\n",
        "    print(\"Session duration:   %.2f min\" % RECORDING_DURATION_TEST)\n",
        "    print(\"Number of letters:  %d\" % TRIALS_TEST)\n",
        "    print(\"Spelled word:       %s\" % ''.join(word_test))"
      ],
      "execution_count": 37,
      "outputs": [
        {
          "output_type": "stream",
          "name": "stdout",
          "text": [
            "**********************************\n",
            "        TEST SET INFORMATION      \n",
            "**********************************\n",
            "Sampling Frequency: 240 Hz [4.17 ms]\n",
            "Session duration:   54.12 min\n",
            "Number of letters:  100\n",
            "Spelled word:       MERMIROOMUHJPXJOHUVLEORZP3GLOO7AUFDKEFTWEOOALZOP9ROCGZET1Y19EWX65QUYU7NAK_4YCJDVDNGQXODBEV2B5EFDIDNR\n"
          ]
        }
      ]
    },
    {
      "cell_type": "code",
      "metadata": {
        "id": "bbYYndnJymC9"
      },
      "source": [
        "# Create characters matrix\n",
        "char_matrix = [[0 for j in range(6)] for i in range(6)]\n",
        "s = string.ascii_uppercase + '1' + '2' + '3' + '4' + '5' + '6' + '7' + '8' + '9' + '_'\n",
        "\n",
        "# Append cols and rows in a list\n",
        "list_matrix = []\n",
        "for i in range(6):\n",
        "    col = [s[j] for j in range(i, 36, 6)]\n",
        "    list_matrix.append(col)\n",
        "for i in range(6):\n",
        "    row = [s[j] for j in range(i * 6, i * 6 + 6)]\n",
        "    list_matrix.append(row)\n",
        "\n",
        "# Create StimulusType array for the test set (missing from the given database)\n",
        "stimulus_test = [[0 for j in range(SAMPLES_PER_TRIAL_TEST)] for i in range(TRIALS_TEST)]\n",
        "stimulus_test = np.array(stimulus_test)\n",
        "\n",
        "for trial in range(TRIALS_TEST):\n",
        "    counter=0\n",
        "    for sample in range(SAMPLES_PER_TRIAL_TEST):\n",
        "        index = int(stimulus_code_test[trial, sample]) - 1\n",
        "        if not index == -1:\n",
        "            if word_test[0][trial] in list_matrix[index]:\n",
        "                stimulus_test[trial, sample] = 1\n",
        "            else:\n",
        "                stimulus_test[trial, sample] = 0"
      ],
      "execution_count": 38,
      "outputs": []
    },
    {
      "cell_type": "code",
      "metadata": {
        "id": "x3Jku1QjypHK"
      },
      "source": [
        "# Application of butterworth filter\n",
        "b, a = signal.butter(4, [0.1/SAMPLING_FREQUENCY, 20/SAMPLING_FREQUENCY], 'bandpass')\n",
        "for trial in range(TRIALS_TEST):\n",
        "    signals_test[trial, :, :] = signal.filtfilt(b, a, signals_test[trial, :, :], axis=0)"
      ],
      "execution_count": 39,
      "outputs": []
    },
    {
      "cell_type": "code",
      "metadata": {
        "id": "cJoA2Pk0yrkZ",
        "outputId": "14fd19fb-b26b-46c1-fa0b-5179324896e1",
        "colab": {
          "base_uri": "https://localhost:8080/"
        }
      },
      "source": [
        "# Down-sampling of the signals from 240Hz to 120Hz\n",
        "DOWNSAMPLING_FREQUENCY = 120\n",
        "SCALE_FACTOR = round(SAMPLING_FREQUENCY / DOWNSAMPLING_FREQUENCY)\n",
        "SAMPLING_FREQUENCY = DOWNSAMPLING_FREQUENCY\n",
        "\n",
        "print(\"# Samples of EEG signals before downsampling: {}\".format(len(signals_test[0])))\n",
        "\n",
        "signals_test = signals_test[:, 0:-1:SCALE_FACTOR, :]\n",
        "flashing_test = flashing_test[:, 0:-1:SCALE_FACTOR]\n",
        "stimulus_test = stimulus_test[:, 0:-1:SCALE_FACTOR]\n",
        "stimulus_code_test = stimulus_code_test[:, 0:-1:SCALE_FACTOR]\n",
        "\n",
        "print(\"# Samples of EEG signals after downsampling: {}\".format(len(signals_test[0])))"
      ],
      "execution_count": 40,
      "outputs": [
        {
          "output_type": "stream",
          "name": "stdout",
          "text": [
            "# Samples of EEG signals before downsampling: 7794\n",
            "# Samples of EEG signals after downsampling: 3897\n"
          ]
        }
      ]
    },
    {
      "cell_type": "code",
      "metadata": {
        "id": "yesd5eYsyuUw",
        "outputId": "812ba5eb-98f2-40a8-987d-fb0761c1d6f2",
        "colab": {
          "base_uri": "https://localhost:8080/"
        }
      },
      "source": [
        "# Number of EEG channels\n",
        "N_CHANNELS = len(CHANNELS)\n",
        "# Window duration after each flashing [ms]\n",
        "WINDOW_DURATION = 650\n",
        "# Number of samples of each window\n",
        "WINDOW_SAMPLES = round(SAMPLING_FREQUENCY * (WINDOW_DURATION / 1000))\n",
        "# Number of samples for each character in trials\n",
        "SAMPLES_PER_TRIAL_TEST = len(signals_test[0])\n",
        "\n",
        "test_features = []\n",
        "test_labels = []\n",
        "windowed_stimulus = []\n",
        "\n",
        "count_positive = 0\n",
        "count_negative = 0\n",
        "\n",
        "for trial in range(TRIALS_TEST):\n",
        "    for sample in (range(SAMPLES_PER_TRIAL_TEST)):\n",
        "        if (sample == 0) or (flashing_test[trial, sample-1] == 0 and flashing_test[trial, sample] == 1):\n",
        "            lower_sample = sample\n",
        "            upper_sample = sample + WINDOW_SAMPLES\n",
        "            window = signals_test[trial, lower_sample:upper_sample, :]\n",
        "            # Extracting number of row/col in a window\n",
        "            number_stimulus = int(stimulus_code_test[trial, sample])\n",
        "            windowed_stimulus.append(number_stimulus)\n",
        "            # Features extraction\n",
        "            test_features.append(window)\n",
        "            # Labels extraction\n",
        "            if stimulus_test[trial, sample] == 1:\n",
        "                count_positive += 1\n",
        "                test_labels.append(1) # Class P300\n",
        "            else:\n",
        "                count_negative += 1\n",
        "                test_labels.append(0) # Class no-P300\n",
        "\n",
        "# Get test weights to take into account the number of classes\n",
        "test_weights = []\n",
        "for i in range(len(test_labels)):\n",
        "    if test_labels[i] == 1:\n",
        "        test_weights.append(len(test_labels)/count_positive)\n",
        "    else:\n",
        "        test_weights.append(len(test_labels)/count_negative)\n",
        "test_weights = np.array(test_weights)\n",
        "\n",
        "# Convert lists to numpy arrays\n",
        "test_features = np.array(test_features)\n",
        "test_labels = np.array(test_labels)\n",
        "\n",
        "# 3D tensor (SAMPLES, 64, 78)\n",
        "dim_test = test_features.shape\n",
        "print(\"Features tensor shape: {}\".format(dim_test))"
      ],
      "execution_count": 41,
      "outputs": [
        {
          "output_type": "stream",
          "name": "stdout",
          "text": [
            "Features tensor shape: (18000, 78, 64)\n"
          ]
        }
      ]
    },
    {
      "cell_type": "code",
      "metadata": {
        "id": "3tpkxQjBV2rF"
      },
      "source": [
        "# Data normalization Zi = (Xi - mu) / sigma\n",
        "for pattern in range(len(test_features)):\n",
        "    test_features[pattern] = scale(test_features[pattern], axis=0)"
      ],
      "execution_count": 42,
      "outputs": []
    },
    {
      "cell_type": "code",
      "metadata": {
        "id": "QHlqkVA8olpR"
      },
      "source": [
        "# Randomizing function for bias and weights of the network\n",
        "import tensorflow as tf\n",
        "def cecotti_normal(shape, dtype = None, partition_info = None):\n",
        "    if len(shape) == 1:\n",
        "        fan_in = shape[0]\n",
        "    elif len(shape) == 2:\n",
        "        fan_in = shape[0]\n",
        "    else:\n",
        "        receptive_field_size = 1\n",
        "        for dim in shape[:-2]:\n",
        "            receptive_field_size *= dim\n",
        "        fan_in = shape[-2] * receptive_field_size\n",
        "    return tf.random.normal(shape, mean = 0.0, stddev = (1.0 / fan_in))"
      ],
      "execution_count": 50,
      "outputs": []
    },
    {
      "cell_type": "code",
      "metadata": {
        "id": "ngvkHXy9zV_8"
      },
      "source": [
        "# Custom tanh activation function\n",
        "def scaled_tanh(z):\n",
        "    return 1.7159 * K.tanh((2.0 / 3.0) * z)"
      ],
      "execution_count": 44,
      "outputs": []
    },
    {
      "cell_type": "code",
      "metadata": {
        "id": "Ah6zTXTmzYCQ"
      },
      "source": [
        "# Build the model\n",
        "def CNN_model(channels=64, filt=10):\n",
        "    model = Sequential([\n",
        "        Conv1D(\n",
        "            filters = filt,\n",
        "            kernel_size = 1,\n",
        "            padding = \"same\",\n",
        "            bias_initializer = cecotti_normal,\n",
        "            kernel_initializer = cecotti_normal,\n",
        "            use_bias = True,\n",
        "            activation = scaled_tanh,\n",
        "            input_shape = (78, channels)\n",
        "        ),\n",
        "        Conv1D(\n",
        "            filters = 50,\n",
        "            kernel_size = 13,\n",
        "            padding = \"valid\",\n",
        "            strides = 11,\n",
        "            bias_initializer = cecotti_normal,\n",
        "            kernel_initializer = cecotti_normal,\n",
        "            use_bias = True,\n",
        "            activation = scaled_tanh,\n",
        "        ),\n",
        "        Flatten(),\n",
        "        Dense(100, activation=\"sigmoid\"),\n",
        "        Dense(1, activation=\"sigmoid\")\n",
        "    ])\n",
        "    model.compile(optimizer = 'adam', loss = 'mean_squared_error', metrics = ['accuracy'])\n",
        "    return model"
      ],
      "execution_count": 45,
      "outputs": []
    },
    {
      "cell_type": "code",
      "metadata": {
        "id": "W1vWWHejXRJ7"
      },
      "source": [
        "# Multiclassifier prediction function\n",
        "def majorityPrediction(models, inputs):\n",
        "    pred = []\n",
        "    # Get models predictions\n",
        "    for model in models:\n",
        "        pred.append(model.predict(inputs))\n",
        "    pred = np.array(pred)\n",
        "    return pred.mean(axis=0).flatten()"
      ],
      "execution_count": 46,
      "outputs": []
    },
    {
      "cell_type": "code",
      "metadata": {
        "id": "ELywmEInzbml"
      },
      "source": [
        "# Model settings\n",
        "if MODEL_SELECTED in [\"CNN1\", \"MCNN1\", \"MCNN2\", \"MCNN3\"]:\n",
        "    channels = 64\n",
        "    filters = 10\n",
        "elif MODEL_SELECTED == \"CNN2a\":\n",
        "    channels = 8\n",
        "    filters = 10\n",
        "elif MODEL_SELECTED == \"CNN2b\":\n",
        "    channels = 8\n",
        "    filters = 10\n",
        "elif MODEL_SELECTED == \"CNN2c\":\n",
        "    channels = N_CHANNELS\n",
        "    filters = 10\n",
        "elif MODEL_SELECTED == \"CNN3\":\n",
        "    channels = 64\n",
        "    filters = 1\n",
        "\n",
        "# CNN1, CNN2a, CNN2b, CNN2c, CNN3 are single classifiers\n",
        "if MODEL_SELECTED in [\"CNN1\", \"CNN2a\", \"CNN2b\", \"CNN2c\", \"CNN3\"]:\n",
        "    N_NETWORKS = 1\n",
        "    # Model definition\n",
        "    model = CNN_model(channels, filters)\n",
        "    # Load model weights from h5 file\n",
        "    if MODEL_SELECTED == \"CNN2c\":\n",
        "        model.load_weights(MODEL_LOCATIONS_FILE_PATH + \"/model\" + ELECTRODE_SELECTED + \".h5\")\n",
        "    else:\n",
        "        model.load_weights(MODEL_LOCATIONS_FILE_PATH + \"/model.keras\")\n",
        "    # Compile model model\n",
        "    model.compile(optimizer = 'adam', loss = 'mean_squared_error', metrics = ['accuracy'])\n",
        "    # Create dictionary to store models\n",
        "    model_dict = {1:model}\n",
        "\n",
        "# MCNN3 is composed by 3 CNN1 models\n",
        "elif MODEL_SELECTED in [\"MCNN3\"]:\n",
        "    N_NETWORKS = 3\n",
        "    # Model definition\n",
        "    model1 = CNN_model(channels, filters)\n",
        "    model2 = CNN_model(channels, filters)\n",
        "    model3 = CNN_model(channels, filters)\n",
        "    # Load model weights from h5 file\n",
        "    model1.load_weights(MODEL_LOCATIONS_FILE_PATH + \"/model1.h5\")\n",
        "    model2.load_weights(MODEL_LOCATIONS_FILE_PATH + \"/model2.h5\")\n",
        "    model3.load_weights(MODEL_LOCATIONS_FILE_PATH + \"/model3.h5\")\n",
        "    # Compile model model\n",
        "    model1.compile(optimizer = 'adam', loss = 'mean_squared_error', metrics = ['accuracy'])\n",
        "    model2.compile(optimizer = 'adam', loss = 'mean_squared_error', metrics = ['accuracy'])\n",
        "    model3.compile(optimizer = 'adam', loss = 'mean_squared_error', metrics = ['accuracy'])\n",
        "    # Create dictionary to store models\n",
        "    model_dict = {1:model1, 2:model2, 3:model3}\n",
        "\n",
        "# MCNN1 and MCNN2 are composed by 5 CNN1 models\n",
        "elif MODEL_SELECTED in [\"MCNN1\", \"MCNN2\"]:\n",
        "    N_NETWORKS = 5\n",
        "    # Model definition\n",
        "    model1 = CNN_model(channels, filters)\n",
        "    model2 = CNN_model(channels, filters)\n",
        "    model3 = CNN_model(channels, filters)\n",
        "    model4 = CNN_model(channels, filters)\n",
        "    model5 = CNN_model(channels, filters)\n",
        "    # Load model weights from h5 file\n",
        "    model1.load_weights(MODEL_LOCATIONS_FILE_PATH + \"/model1.h5\")\n",
        "    model2.load_weights(MODEL_LOCATIONS_FILE_PATH + \"/model2.h5\")\n",
        "    model3.load_weights(MODEL_LOCATIONS_FILE_PATH + \"/model3.h5\")\n",
        "    model4.load_weights(MODEL_LOCATIONS_FILE_PATH + \"/model4.h5\")\n",
        "    model5.load_weights(MODEL_LOCATIONS_FILE_PATH + \"/model5.h5\")\n",
        "    # Compile model model\n",
        "    model1.compile(optimizer = 'adam', loss = 'mean_squared_error', metrics = ['accuracy'])\n",
        "    model2.compile(optimizer = 'adam', loss = 'mean_squared_error', metrics = ['accuracy'])\n",
        "    model3.compile(optimizer = 'adam', loss = 'mean_squared_error', metrics = ['accuracy'])\n",
        "    model4.compile(optimizer = 'adam', loss = 'mean_squared_error', metrics = ['accuracy'])\n",
        "    model5.compile(optimizer = 'adam', loss = 'mean_squared_error', metrics = ['accuracy'])\n",
        "    # Create dictionary to store models\n",
        "    model_dict = {1:model1, 2:model2, 3:model3, 4:model4, 5:model5}"
      ],
      "execution_count": 52,
      "outputs": []
    },
    {
      "cell_type": "code",
      "metadata": {
        "id": "9SX8r5XHUNgL",
        "outputId": "3da794e7-414c-48df-cf6d-1d7de319f77c",
        "colab": {
          "base_uri": "https://localhost:8080/",
          "height": 997
        }
      },
      "source": [
        "# Load topoplot coordinates\n",
        "if not os.path.exists(CHANNEL_COORD):\n",
        "    print(\"Missing file: {}\".format(CHANNEL_COORD))\n",
        "else:\n",
        "    xycoord = []\n",
        "    # Read file content\n",
        "    with open(CHANNEL_COORD, \"r\") as f:\n",
        "        file_content = f.read()\n",
        "        # Loop over all rows\n",
        "        for row in file_content.split(\"\\n\"):\n",
        "        # Skip missing rows\n",
        "            if row == '':\n",
        "                continue\n",
        "            xycoord.append(row)\n",
        "\n",
        "# Create a list with x,y coordinates of each electrodes well formatted\n",
        "coord = []\n",
        "for x in xycoord:\n",
        "    coord.append(x.split(','))\n",
        "coord = np.array(coord)\n",
        "\n",
        "# Flip y axis in order to plot in the right way the electrodes positions\n",
        "for i in range(len(coord)):\n",
        "    coord[i][1] = 681 -int(coord[i][1])\n",
        "\n",
        "# Create a list of weights for all filters\n",
        "nf = []\n",
        "for net in range(N_NETWORKS):\n",
        "    for filt in range(filters):\n",
        "        nf.append(abs(np.array(model_dict[net+1].get_weights()[0])[0, :, filt]))\n",
        "nf = np.array(nf, dtype=float)\n",
        "\n",
        "# Add -1 to missing channels values\n",
        "tmp_full = []\n",
        "for net in range(N_NETWORKS):\n",
        "    for filt in range(filters):\n",
        "        tmp = np.full(64, 0, dtype=float)\n",
        "        for chan in range(channels):\n",
        "            tmp[CHANNELS[chan]] = nf[filt+net*filters][chan]\n",
        "        tmp_full.append(tmp)\n",
        "nf = np.array(tmp_full, dtype=float)\n",
        "\n",
        "# Plot topoplot of the filters in the first convolutional layer\n",
        "fig = plt.figure(figsize=(22,8))\n",
        "for tot in range(N_NETWORKS*filters):\n",
        "    ax = fig.add_subplot(N_NETWORKS, filters, tot+1)\n",
        "    ax.set_title(\"Net {} #{}\".format((tot//10)+1, (tot)%10+1))\n",
        "    mne.viz.plot_topomap(nf[tot], coord, cmap='Spectral_r', axes=ax, show=False)"
      ],
      "execution_count": 53,
      "outputs": [
        {
          "output_type": "error",
          "ename": "UFuncTypeError",
          "evalue": "ufunc 'logical_or' did not contain a loop with signature matching types (None, <class 'numpy.dtypes.StrDType'>) -> None",
          "traceback": [
            "\u001b[0;31m---------------------------------------------------------------------------\u001b[0m",
            "\u001b[0;31mUFuncTypeError\u001b[0m                            Traceback (most recent call last)",
            "\u001b[0;32m<ipython-input-53-2646a8bdd481>\u001b[0m in \u001b[0;36m<cell line: 45>\u001b[0;34m()\u001b[0m\n\u001b[1;32m     46\u001b[0m     \u001b[0max\u001b[0m \u001b[0;34m=\u001b[0m \u001b[0mfig\u001b[0m\u001b[0;34m.\u001b[0m\u001b[0madd_subplot\u001b[0m\u001b[0;34m(\u001b[0m\u001b[0mN_NETWORKS\u001b[0m\u001b[0;34m,\u001b[0m \u001b[0mfilters\u001b[0m\u001b[0;34m,\u001b[0m \u001b[0mtot\u001b[0m\u001b[0;34m+\u001b[0m\u001b[0;36m1\u001b[0m\u001b[0;34m)\u001b[0m\u001b[0;34m\u001b[0m\u001b[0;34m\u001b[0m\u001b[0m\n\u001b[1;32m     47\u001b[0m     \u001b[0max\u001b[0m\u001b[0;34m.\u001b[0m\u001b[0mset_title\u001b[0m\u001b[0;34m(\u001b[0m\u001b[0;34m\"Net {} #{}\"\u001b[0m\u001b[0;34m.\u001b[0m\u001b[0mformat\u001b[0m\u001b[0;34m(\u001b[0m\u001b[0;34m(\u001b[0m\u001b[0mtot\u001b[0m\u001b[0;34m//\u001b[0m\u001b[0;36m10\u001b[0m\u001b[0;34m)\u001b[0m\u001b[0;34m+\u001b[0m\u001b[0;36m1\u001b[0m\u001b[0;34m,\u001b[0m \u001b[0;34m(\u001b[0m\u001b[0mtot\u001b[0m\u001b[0;34m)\u001b[0m\u001b[0;34m%\u001b[0m\u001b[0;36m10\u001b[0m\u001b[0;34m+\u001b[0m\u001b[0;36m1\u001b[0m\u001b[0;34m)\u001b[0m\u001b[0;34m)\u001b[0m\u001b[0;34m\u001b[0m\u001b[0;34m\u001b[0m\u001b[0m\n\u001b[0;32m---> 48\u001b[0;31m     \u001b[0mmne\u001b[0m\u001b[0;34m.\u001b[0m\u001b[0mviz\u001b[0m\u001b[0;34m.\u001b[0m\u001b[0mplot_topomap\u001b[0m\u001b[0;34m(\u001b[0m\u001b[0mnf\u001b[0m\u001b[0;34m[\u001b[0m\u001b[0mtot\u001b[0m\u001b[0;34m]\u001b[0m\u001b[0;34m,\u001b[0m \u001b[0mcoord\u001b[0m\u001b[0;34m,\u001b[0m \u001b[0mcmap\u001b[0m\u001b[0;34m=\u001b[0m\u001b[0;34m'Spectral_r'\u001b[0m\u001b[0;34m,\u001b[0m \u001b[0maxes\u001b[0m\u001b[0;34m=\u001b[0m\u001b[0max\u001b[0m\u001b[0;34m,\u001b[0m \u001b[0mshow\u001b[0m\u001b[0;34m=\u001b[0m\u001b[0;32mFalse\u001b[0m\u001b[0;34m)\u001b[0m\u001b[0;34m\u001b[0m\u001b[0;34m\u001b[0m\u001b[0m\n\u001b[0m",
            "\u001b[0;32m/usr/local/lib/python3.10/dist-packages/mne/viz/topomap.py\u001b[0m in \u001b[0;36mplot_topomap\u001b[0;34m(data, pos, ch_type, sensors, names, mask, mask_params, contours, outlines, sphere, image_interp, extrapolate, border, res, size, cmap, vlim, cnorm, axes, show, onselect)\u001b[0m\n\u001b[1;32m   1019\u001b[0m             \u001b[0;34mf\"vmax={cnorm.vmax}; ignoring additional vlim/vmin/vmax params.\"\u001b[0m\u001b[0;34m\u001b[0m\u001b[0;34m\u001b[0m\u001b[0m\n\u001b[1;32m   1020\u001b[0m         )\n\u001b[0;32m-> 1021\u001b[0;31m     return _plot_topomap(\n\u001b[0m\u001b[1;32m   1022\u001b[0m         \u001b[0mdata\u001b[0m\u001b[0;34m,\u001b[0m\u001b[0;34m\u001b[0m\u001b[0;34m\u001b[0m\u001b[0m\n\u001b[1;32m   1023\u001b[0m         \u001b[0mpos\u001b[0m\u001b[0;34m,\u001b[0m\u001b[0;34m\u001b[0m\u001b[0;34m\u001b[0m\u001b[0m\n",
            "\u001b[0;32m/usr/local/lib/python3.10/dist-packages/mne/viz/topomap.py\u001b[0m in \u001b[0;36m_plot_topomap\u001b[0;34m(data, pos, axes, ch_type, sensors, names, mask, mask_params, contours, outlines, sphere, image_interp, extrapolate, border, res, cmap, vmin, vmax, cnorm, show, onselect)\u001b[0m\n\u001b[1;32m   1275\u001b[0m     \u001b[0;32massert\u001b[0m \u001b[0misinstance\u001b[0m\u001b[0;34m(\u001b[0m\u001b[0moutlines\u001b[0m\u001b[0;34m,\u001b[0m \u001b[0mdict\u001b[0m\u001b[0;34m)\u001b[0m\u001b[0;34m\u001b[0m\u001b[0;34m\u001b[0m\u001b[0m\n\u001b[1;32m   1276\u001b[0m \u001b[0;34m\u001b[0m\u001b[0m\n\u001b[0;32m-> 1277\u001b[0;31m     \u001b[0m_prepare_topomap\u001b[0m\u001b[0;34m(\u001b[0m\u001b[0mpos\u001b[0m\u001b[0;34m,\u001b[0m \u001b[0maxes\u001b[0m\u001b[0;34m)\u001b[0m\u001b[0;34m\u001b[0m\u001b[0;34m\u001b[0m\u001b[0m\n\u001b[0m\u001b[1;32m   1278\u001b[0m \u001b[0;34m\u001b[0m\u001b[0m\n\u001b[1;32m   1279\u001b[0m     \u001b[0mmask_params\u001b[0m \u001b[0;34m=\u001b[0m \u001b[0m_handle_default\u001b[0m\u001b[0;34m(\u001b[0m\u001b[0;34m\"mask_params\"\u001b[0m\u001b[0;34m,\u001b[0m \u001b[0mmask_params\u001b[0m\u001b[0;34m)\u001b[0m\u001b[0;34m\u001b[0m\u001b[0;34m\u001b[0m\u001b[0m\n",
            "\u001b[0;32m/usr/local/lib/python3.10/dist-packages/mne/viz/topomap.py\u001b[0m in \u001b[0;36m_prepare_topomap\u001b[0;34m(pos, ax, check_nonzero)\u001b[0m\n\u001b[1;32m   3014\u001b[0m     \"\"\"\n\u001b[1;32m   3015\u001b[0m     \u001b[0m_hide_frame\u001b[0m\u001b[0;34m(\u001b[0m\u001b[0max\u001b[0m\u001b[0;34m)\u001b[0m\u001b[0;34m\u001b[0m\u001b[0;34m\u001b[0m\u001b[0m\n\u001b[0;32m-> 3016\u001b[0;31m     \u001b[0;32mif\u001b[0m \u001b[0mcheck_nonzero\u001b[0m \u001b[0;32mand\u001b[0m \u001b[0;32mnot\u001b[0m \u001b[0mpos\u001b[0m\u001b[0;34m.\u001b[0m\u001b[0many\u001b[0m\u001b[0;34m(\u001b[0m\u001b[0;34m)\u001b[0m\u001b[0;34m:\u001b[0m\u001b[0;34m\u001b[0m\u001b[0;34m\u001b[0m\u001b[0m\n\u001b[0m\u001b[1;32m   3017\u001b[0m         raise RuntimeError(\n\u001b[1;32m   3018\u001b[0m             \u001b[0;34m\"No position information found, cannot compute geometries for topomap.\"\u001b[0m\u001b[0;34m\u001b[0m\u001b[0;34m\u001b[0m\u001b[0m\n",
            "\u001b[0;32m/usr/local/lib/python3.10/dist-packages/numpy/core/_methods.py\u001b[0m in \u001b[0;36m_any\u001b[0;34m(a, axis, dtype, out, keepdims, where)\u001b[0m\n\u001b[1;32m     56\u001b[0m     \u001b[0;31m# Parsing keyword arguments is currently fairly slow, so avoid it for now\u001b[0m\u001b[0;34m\u001b[0m\u001b[0;34m\u001b[0m\u001b[0m\n\u001b[1;32m     57\u001b[0m     \u001b[0;32mif\u001b[0m \u001b[0mwhere\u001b[0m \u001b[0;32mis\u001b[0m \u001b[0;32mTrue\u001b[0m\u001b[0;34m:\u001b[0m\u001b[0;34m\u001b[0m\u001b[0;34m\u001b[0m\u001b[0m\n\u001b[0;32m---> 58\u001b[0;31m         \u001b[0;32mreturn\u001b[0m \u001b[0mumr_any\u001b[0m\u001b[0;34m(\u001b[0m\u001b[0ma\u001b[0m\u001b[0;34m,\u001b[0m \u001b[0maxis\u001b[0m\u001b[0;34m,\u001b[0m \u001b[0mdtype\u001b[0m\u001b[0;34m,\u001b[0m \u001b[0mout\u001b[0m\u001b[0;34m,\u001b[0m \u001b[0mkeepdims\u001b[0m\u001b[0;34m)\u001b[0m\u001b[0;34m\u001b[0m\u001b[0;34m\u001b[0m\u001b[0m\n\u001b[0m\u001b[1;32m     59\u001b[0m     \u001b[0;32mreturn\u001b[0m \u001b[0mumr_any\u001b[0m\u001b[0;34m(\u001b[0m\u001b[0ma\u001b[0m\u001b[0;34m,\u001b[0m \u001b[0maxis\u001b[0m\u001b[0;34m,\u001b[0m \u001b[0mdtype\u001b[0m\u001b[0;34m,\u001b[0m \u001b[0mout\u001b[0m\u001b[0;34m,\u001b[0m \u001b[0mkeepdims\u001b[0m\u001b[0;34m,\u001b[0m \u001b[0mwhere\u001b[0m\u001b[0;34m=\u001b[0m\u001b[0mwhere\u001b[0m\u001b[0;34m)\u001b[0m\u001b[0;34m\u001b[0m\u001b[0;34m\u001b[0m\u001b[0m\n\u001b[1;32m     60\u001b[0m \u001b[0;34m\u001b[0m\u001b[0m\n",
            "\u001b[0;31mUFuncTypeError\u001b[0m: ufunc 'logical_or' did not contain a loop with signature matching types (None, <class 'numpy.dtypes.StrDType'>) -> None"
          ]
        },
        {
          "output_type": "display_data",
          "data": {
            "text/plain": [
              "<Figure size 2200x800 with 1 Axes>"
            ],
            "image/png": "[encoded data removed]"
          },
          "metadata": {}
        }
      ]
    },
    {
      "cell_type": "code",
      "metadata": {
        "id": "sd4sqYNh1ehN",
        "outputId": "a7fe6f1f-6236-4cd8-adeb-4d1cb6da3766",
        "colab": {
          "base_uri": "https://localhost:8080/",
          "height": 33
        }
      },
      "source": [
        "# Accuracy over the testing set\n",
        "if MODEL_SELECTED in [\"CNN1\", \"CNN2a\", \"CNN2b\", \"CNN2c\", \"CNN3\"]:\n",
        "    predictions = model.predict(test_features).flatten()\n",
        "elif MODEL_SELECTED in [\"MCNN1\", \"MCNN2\"]:\n",
        "    predictions = majorityPrediction(models=[model1, model2, model3, model4, model5], inputs=test_features)\n",
        "elif MODEL_SELECTED in [\"MCNN3\"]:\n",
        "    predictions = majorityPrediction(models=[model1, model2, model3], inputs=test_features)\n",
        "\n",
        "# Model evaluation\n",
        "score = 0\n",
        "for i in range(len(test_labels)):\n",
        "    if test_labels[i] == predictions[i].round():\n",
        "        score += 1\n",
        "score /= len(predictions)\n",
        "\n",
        "if MODEL_SELECTED == \"CNN2c\":\n",
        "    print(\"Model {} on subset {}: accuracy on test set: {}%\".format(MODEL_SELECTED, ELECTRODE_SELECTED,round(score*100, 4)))\n",
        "else:\n",
        "    print(\"Model {}: accuracy on test set: {}%\".format(MODEL_SELECTED, round(score*100, 4)))"
      ],
      "execution_count": null,
      "outputs": [
        {
          "output_type": "stream",
          "text": [
            "Model MCNN1: accuracy on test set: 78.55%\n"
          ],
          "name": "stdout"
        }
      ]
    },
    {
      "cell_type": "code",
      "metadata": {
        "id": "gsXHz_oF87Xu",
        "outputId": "a7257227-687a-4841-93c0-ba9235ec8989",
        "colab": {
          "base_uri": "https://localhost:8080/",
          "height": 392
        }
      },
      "source": [
        "# Weighted confusion matrix (noP300: 80%, P300: 20%)\n",
        "data = confusion_matrix(y_true=test_labels, y_pred=predictions.round(), sample_weight=test_weights)\n",
        "\n",
        "# Normalized confusion matrix (values in range 0-1)\n",
        "data_norm = data/np.full(data.shape, len(test_labels))\n",
        "\n",
        "# Plot the confusion matrix\n",
        "df_cm = pd.DataFrame(data_norm, columns=np.unique(test_labels), index = np.unique(test_labels))\n",
        "df_cm.index.name = 'Actual'\n",
        "df_cm.columns.name = 'Predicted'\n",
        "plt.figure(figsize = (6,5))\n",
        "sns.set(font_scale = 1.4)\n",
        "cm = sns.heatmap(df_cm, cmap=\"Blues\", annot=True, annot_kws = {\"size\": 16}, vmin=0, vmax=1)\n",
        "cm.axes.set_title(\"{} confusion matrix\\n\".format(MODEL_SELECTED), fontsize=20)\n",
        "plt.show()"
      ],
      "execution_count": null,
      "outputs": [
        {
          "output_type": "display_data",
          "data": {
            "image/png": "[encoded data removed]",
            "text/plain": [
              "<Figure size 432x360 with 2 Axes>"
            ]
          },
          "metadata": {
            "tags": []
          }
        }
      ]
    },
    {
      "cell_type": "code",
      "metadata": {
        "id": "VzkDYmYPCXGg"
      },
      "source": [
        "# Model metrics (sens, spec, ppv, npv)\n",
        "def model_metrics(conf_matrix):\n",
        "    tn, fp, fn, tp = list(data_norm.flatten())\n",
        "    sens = round(tp/(tp+fn),4) # Sensitivity\n",
        "    spec = round(tn/(tn+fp),4) # Specificity\n",
        "    ppv = round(tp/(tp+fp),4) # Positive Predicted Value\n",
        "    npv = round(tn/(tn+fn),4) # Negative Predicted Value\n",
        "    return {\"Sensitivity\":sens, \"Specificity\":spec, \"PPV\":ppv, \"NPV\":npv}"
      ],
      "execution_count": null,
      "outputs": []
    },
    {
      "cell_type": "code",
      "metadata": {
        "id": "hV6U9lbSCXPF",
        "outputId": "af444968-e24a-4ba9-9d01-b4e3b6ddf5e3",
        "colab": {
          "base_uri": "https://localhost:8080/",
          "height": 85
        }
      },
      "source": [
        "# Put model metrics into a table\n",
        "metrics = model_metrics(data_norm)\n",
        "\n",
        "# Create figure\n",
        "fig = plt.figure(figsize=(5,1))\n",
        "ax = fig.add_subplot(111)\n",
        "\n",
        "# Hide graph outlines\n",
        "for item in [fig, ax]:\n",
        "    item.patch.set_visible(False)\n",
        "ax.xaxis.set_visible(False)\n",
        "ax.yaxis.set_visible(False)\n",
        "ax.spines[\"top\"].set_visible(False)\n",
        "ax.spines[\"bottom\"].set_visible(False)\n",
        "ax.spines[\"left\"].set_visible(False)\n",
        "ax.spines[\"right\"].set_visible(False)\n",
        "\n",
        "# Table definition\n",
        "table = ax.table(cellText=[list(metrics.values())],\n",
        "                     colLabels=list(metrics.keys()),\n",
        "                     loc=\"center\",\n",
        "                     cellLoc=\"center\",\n",
        "                     colColours=[\"c\"]*4)\n",
        "table.set_fontsize(16)\n",
        "table.scale(2,2)\n",
        "\n",
        "plt.show()"
      ],
      "execution_count": null,
      "outputs": [
        {
          "output_type": "display_data",
          "data": {
            "image/png": "[encoded data removed]",
            "text/plain": [
              "<Figure size 360x72 with 1 Axes>"
            ]
          },
          "metadata": {
            "tags": []
          }
        }
      ]
    },
    {
      "cell_type": "markdown",
      "metadata": {
        "id": "KEopC4QXc24W"
      },
      "source": [
        "#P300 speller\n",
        "1.   Get the predictions from the selected model;\n",
        "2.   Sort the predictions following the enumeration of columns and rows in the char matrix;\n",
        "3.   Calculate mean predictions in **N** epochs;\n",
        "4.   Process one epoch of predictions such that it contains exactly two **1** and ten **0**:\n",
        "> * Round the highest element between **1<=x<=6** to **1** (detected column);\n",
        "> * Round the highest element between **7<=x<=12** to **1** (detected row);\n",
        "> * Round everything else to **0**;\n",
        "5.   Get letter corresponding to the intersection of column and row in the char matrix;\n",
        "6.   Compare the predictions with the labels provided;\n",
        "\n",
        "(optional)\n",
        "7.   Construct a dictionary to keep track of any char occurrences during epochs ;\n",
        "8.   Use the dictionary to decide which is the most probable letter in case of a tie;\n",
        "\n",
        "\n",
        "\n",
        "\n",
        "\n",
        "\n",
        "\n",
        "\n",
        "\n",
        "\n",
        "\n",
        "\n"
      ]
    },
    {
      "cell_type": "code",
      "metadata": {
        "id": "ug5swEPl12U8"
      },
      "source": [
        "# If intersection is valid (row-col) and returns char, otherwise returns none\n",
        "def check_letter(x, y):\n",
        "    # Check if x and y are two columns or two rows\n",
        "    if ((x >= 1 and x <= 6) and (y >= 1 and y <= 6)) or ((x >= 7 and x <= 12) and (y >= 7 and y <= 12)):\n",
        "        return None\n",
        "    else:\n",
        "        list1 = list_matrix[x - 1]\n",
        "        list2 = list_matrix[y - 1]\n",
        "        for c in list1:\n",
        "            # If char is also in list2, it is the intesection of col and row\n",
        "            if c in list2:\n",
        "                return c"
      ],
      "execution_count": null,
      "outputs": []
    },
    {
      "cell_type": "code",
      "metadata": {
        "id": "hX8o9sgc18vF"
      },
      "source": [
        "# Returns the intersection for all permutations of columns and rows\n",
        "def check_intersect(list_colrow):\n",
        "    intersect = []\n",
        "    for x in range(len(list_colrow)-1):\n",
        "        for y in range(x+1, len(list_colrow)):\n",
        "            tmp = check_letter(list_colrow[x], list_colrow[y])\n",
        "            if tmp:\n",
        "                intersect.append(tmp)\n",
        "    return intersect"
      ],
      "execution_count": null,
      "outputs": []
    },
    {
      "cell_type": "code",
      "metadata": {
        "id": "yHaLwFrl1_h_"
      },
      "source": [
        "# Keeps track of multiple occurrences during epochs\n",
        "def dict_predictions(predictions, stimulus, n_epoch, A=1, B=0):\n",
        "    # A: Certainty decreses with number of possible guesses\n",
        "    # B: Certainty increases with number of epochs processed\n",
        "    dict_char = {}\n",
        "    for epoch in range(1, n_epoch + 1):\n",
        "        list_flash = []\n",
        "        for index in range(12):\n",
        "            # Obtain single epoch of data\n",
        "            pred = predictions[12*(epoch-1):12*epoch]\n",
        "            stim = stimulus[12*(epoch-1):12*epoch]\n",
        "            # Sort pred following 1->12 col/row ordering\n",
        "            sorted_pred = sort_predictions(pred, stim)\n",
        "            # Round predictions to contain only 1 and 0\n",
        "            round_pred = round_argmax(sorted_pred)\n",
        "            # Append cols and rows number where there's a flash\n",
        "            if round_pred[index] == 1:\n",
        "                list_flash.append(index+1)\n",
        "        # Get all intersections and create dict with all occurrences\n",
        "        intersect = check_intersect(list_flash)\n",
        "        for inter in intersect:\n",
        "            if inter not in dict_char.keys():\n",
        "                dict_char[inter] = A*(1/len(intersect)) + B*((epoch+1)/n_epoch)\n",
        "            else:\n",
        "                dict_char[inter] += A*(1/len(intersect)) + B*((epoch+1)/n_epoch)\n",
        "    return dict_char"
      ],
      "execution_count": null,
      "outputs": []
    },
    {
      "cell_type": "code",
      "metadata": {
        "id": "H6QjRtMLCw_1"
      },
      "source": [
        "# Get list of all char predictions\n",
        "def char_predictions(sorted_pred):\n",
        "    # Precodition1: sorted_pred sorteded by col/row enumeration\n",
        "    # Precodition2: takes only 1 epoch at the time\n",
        "    list_flash = []\n",
        "    for index in range(12):\n",
        "        if sorted_pred[index] == 1:\n",
        "            list_flash.append(index + 1)\n",
        "    intersect = check_intersect(list_flash)\n",
        "    return intersect"
      ],
      "execution_count": null,
      "outputs": []
    },
    {
      "cell_type": "code",
      "metadata": {
        "id": "AV_F5q_6Kjzv"
      },
      "source": [
        "# Rounds and adjusts predictions to contain two 1 and ten 0\n",
        "def round_argmax(sorted_pred):\n",
        "    # Precodition1: sorted_pred sorteded by col/row enumeration\n",
        "    # Precodition2: takes only 1 epoch at the time\n",
        "    adjust_cols = [0 for i in range(6)]\n",
        "    adjust_rows = [0 for i in range(6)]\n",
        "    sortcols = list(sorted_pred[:6])\n",
        "    sortrows = list(sorted_pred[6:])\n",
        "    sortcols.sort()\n",
        "    sortrows.sort()\n",
        "    for i in range(6):\n",
        "        if sorted_pred[i] == sortcols[-1]:\n",
        "            adjust_cols[i] = 1\n",
        "    for i in range(6):\n",
        "        if sorted_pred[6+i] == sortrows[-1]:\n",
        "            adjust_rows[i] = 1\n",
        "    return adjust_cols + adjust_rows"
      ],
      "execution_count": null,
      "outputs": []
    },
    {
      "cell_type": "code",
      "metadata": {
        "id": "N1oKGwgGC623"
      },
      "source": [
        "# Sort pred following 1->12 col/row ordering\n",
        "def sort_predictions(predictions, stimulus):\n",
        "    # Precondition: takes only 1 epoch at the time\n",
        "    sorted_pred = [0 for i in range(12)]\n",
        "    for index in range(12):\n",
        "        sorted_pred[int(stimulus[index]) - 1] = predictions[index]\n",
        "    return sorted_pred"
      ],
      "execution_count": null,
      "outputs": []
    },
    {
      "cell_type": "code",
      "metadata": {
        "id": "fatAez_r3Mz4"
      },
      "source": [
        "# Estimate the expected values for each prediction in n epochs\n",
        "def mean_predictions(predictions, stimulus, n_epoch):\n",
        "    epoch_matrix = []\n",
        "    for epoch in range(1, n_epoch + 1):\n",
        "        # Obtain single epoch of data\n",
        "        pred = predictions[12*(epoch-1):12*epoch]\n",
        "        stim = stimulus[12*(epoch-1):12*epoch]\n",
        "        # Sort pred following 1->12 col/row ordering\n",
        "        sorted_pred = sort_predictions(pred, stim)\n",
        "        # Append sorted epoch of pred into matrix\n",
        "        epoch_matrix.append(sorted_pred)\n",
        "    # Mean over n_epochs to improve estimation of prediction\n",
        "    return np.array(epoch_matrix).mean(axis=0)"
      ],
      "execution_count": null,
      "outputs": []
    },
    {
      "cell_type": "code",
      "metadata": {
        "id": "iokRGm_pAbHS"
      },
      "source": [
        "# In case of ties we look at the occurrences to find the most probable\n",
        "def break_ties(word_pred, dict_pred):\n",
        "    max_occ = 0\n",
        "    max_pred = None\n",
        "    letters = []\n",
        "    results = []\n",
        "    for letter in word_pred:\n",
        "        if letter in dict_pred.keys():\n",
        "            letters.append(letter)\n",
        "            if dict_pred[letter] > max_occ:\n",
        "                max_occ = dict_pred[letter]\n",
        "    # We found a least 1 letter in the dict\n",
        "    if max_occ > 0:\n",
        "        for letter in letters:\n",
        "            if dict_pred[letter] == max_occ:\n",
        "                results.append(letter)\n",
        "    # If the tie still holds, return random element from results\n",
        "    if results:\n",
        "        return random.choice(results)\n",
        "    else:\n",
        "        return random.choice(word_pred)"
      ],
      "execution_count": null,
      "outputs": []
    },
    {
      "cell_type": "code",
      "metadata": {
        "id": "DnWoj0Xx2CKC",
        "outputId": "e295ec90-8f76-4867-d338-e29fd8d0a64b",
        "colab": {
          "base_uri": "https://localhost:8080/",
          "height": 301
        }
      },
      "source": [
        "if MODEL_SELECTED == \"CNN2c\":\n",
        "    print(\"Model {}_{} subject {}\".format(MODEL_SELECTED, ELECTRODE_SELECTED, SUBJECT_SELECTED))\n",
        "else:\n",
        "    print(\"Model {} subject {}\".format(MODEL_SELECTED, SUBJECT_SELECTED))\n",
        "print(\"------------------------------\")\n",
        "speller_pred = {}\n",
        "epochs_score = []\n",
        "for epoch in range(1, 15 + 1):\n",
        "    score = 0\n",
        "    speller_list = []\n",
        "    for n_char in range(len(word_test[0])):\n",
        "        # Ordering of predictions following col/row enumeration and then estimate expected values\n",
        "        v = mean_predictions(predictions[n_char*180 : n_char*180+12*epoch], windowed_stimulus[n_char*180 : n_char*180+12*epoch], epoch)\n",
        "        # x = argmax v(i) for 1<=i<=6, y = argmax v(i) for 7<=i<=12 [x: col P300 detection, y: row P300 detection]\n",
        "        round_v = round_argmax(v)\n",
        "        # Get intersection letter/s in the char matrix\n",
        "        word_pred = char_predictions(round_v)\n",
        "        # Get dictionary with all char occurrences during epochs\n",
        "        dict_pred = dict_predictions(predictions[n_char*180 : n_char*180+12*epoch], windowed_stimulus[n_char*180 : n_char*180+12*epoch], epoch)\n",
        "        # Break the tie by comparison between word_pred and dict_pred\n",
        "        final_pred = break_ties(word_pred, dict_pred)\n",
        "        # Calculate speller model performance\n",
        "        speller_list.append(final_pred)\n",
        "        if (word_test[0][n_char] == final_pred):\n",
        "            score +=1\n",
        "    # Save speller predictions per epoch\n",
        "    speller_pred[epoch] = speller_list\n",
        "    epochs_score.append(score)\n",
        "    print(\"Epoch #{}\\tAccuracy: {}%\".format(epoch, score))"
      ],
      "execution_count": null,
      "outputs": [
        {
          "output_type": "stream",
          "text": [
            "Model MCNN1 subject B\n",
            "------------------------------\n",
            "Epoch #1\tAccuracy: 37%\n",
            "Epoch #2\tAccuracy: 51%\n",
            "Epoch #3\tAccuracy: 63%\n",
            "Epoch #4\tAccuracy: 71%\n",
            "Epoch #5\tAccuracy: 76%\n",
            "Epoch #6\tAccuracy: 83%\n",
            "Epoch #7\tAccuracy: 87%\n",
            "Epoch #8\tAccuracy: 89%\n",
            "Epoch #9\tAccuracy: 88%\n",
            "Epoch #10\tAccuracy: 93%\n",
            "Epoch #11\tAccuracy: 93%\n",
            "Epoch #12\tAccuracy: 94%\n",
            "Epoch #13\tAccuracy: 94%\n",
            "Epoch #14\tAccuracy: 93%\n",
            "Epoch #15\tAccuracy: 93%\n"
          ],
          "name": "stdout"
        }
      ]
    },
    {
      "cell_type": "code",
      "metadata": {
        "id": "W5PZGstKMWa8",
        "outputId": "37d6359b-20a9-487d-ff24-fa23b45b3aa5",
        "colab": {
          "base_uri": "https://localhost:8080/",
          "height": 50
        }
      },
      "source": [
        "print(''.join(speller_pred[15]))\n",
        "print(word_test[0])"
      ],
      "execution_count": null,
      "outputs": [
        {
          "output_type": "stream",
          "text": [
            "MERMIROOMUZJPXJOHUVLQORZQ3GLOO7CUFFKEFTWEOOALZOP9ROCGZE11Y19CWX65QUYU7NAK_4YCJDVDNGQXODBEV2B5EFDIDNR\n",
            "MERMIROOMUHJPXJOHUVLEORZP3GLOO7AUFDKEFTWEOOALZOP9ROCGZET1Y19EWX65QUYU7NAK_4YCJDVDNGQXODBEV2B5EFDIDNR\n"
          ],
          "name": "stdout"
        }
      ]
    },
    {
      "cell_type": "code",
      "metadata": {
        "id": "MNK-5_ysW5Mj",
        "outputId": "d0fc0dc2-0932-4fc4-ba6d-694cfc023ecc",
        "colab": {
          "base_uri": "https://localhost:8080/",
          "height": 410
        }
      },
      "source": [
        "plt.figure(figsize=(7,6))\n",
        "plt.style.use('tableau-colorblind10')\n",
        "\n",
        "# Plots of loss curves during training\n",
        "plt.subplot(1,1,1)\n",
        "plt.plot(np.linspace(1,15,15), epochs_score, label=\"Accuracy\")\n",
        "plt.xticks([i for i in range(1,16,1)])\n",
        "plt.yticks([i for i in range(0,110,10)])\n",
        "ax = plt.gca()\n",
        "ax.set_xlim([1,15])\n",
        "ax.set_ylim([0,100])\n",
        "plt.xlabel(\"# Epochs\")\n",
        "plt.ylabel(\"Percentage %\")\n",
        "plt.grid(b=True, which='major', color='#FFFFFF', linestyle='-')\n",
        "plt.legend()\n",
        "\n",
        "plt.show()"
      ],
      "execution_count": null,
      "outputs": [
        {
          "output_type": "display_data",
          "data": {
            "image/png": "[encoded data removed]",
            "text/plain": [
              "<Figure size 504x432 with 1 Axes>"
            ]
          },
          "metadata": {
            "tags": []
          }
        }
      ]
    },
    {
      "cell_type": "code",
      "metadata": {
        "id": "rwtRLZJXBRhK",
        "outputId": "ccecaf6e-9518-4c4c-e93f-d1b50c8b94f0",
        "colab": {
          "base_uri": "https://localhost:8080/",
          "height": 595
        }
      },
      "source": [
        "# Create sample weights vector\n",
        "s_dict = {}\n",
        "s_weights = []\n",
        "for word in word_test[0]:\n",
        "    if word not in s_dict.keys():\n",
        "        s_dict[word] = 1\n",
        "    else:\n",
        "        s_dict[word] += 1\n",
        "for word in word_test[0]:\n",
        "    s_weights.append(len(word_test[0])/s_dict[word])\n",
        "\n",
        "# Confusion matrix (36 classes)\n",
        "labels = list(s) # s = Uppercase letters + numbers [1->9] + _\n",
        "confusion_epoch = np.zeros((36, 36))\n",
        "for i in range(1, 15 + 1):\n",
        "    spelldata = confusion_matrix(y_true=list(word_test[0]), y_pred=speller_pred[i], sample_weight=s_weights, labels=labels)\n",
        "    # Normalized confusion matrix (values in range 0-1)\n",
        "    spelldata_norm = spelldata/np.full(spelldata.shape, len(word_test[0]))\n",
        "    # Add the confusion matrix of all epoch together\n",
        "    confusion_epoch += spelldata_norm/15\n",
        "\n",
        "# Plot the confusion matrix\n",
        "df_cm = pd.DataFrame(confusion_epoch, columns=labels, index=labels)\n",
        "df_cm.index.name = 'Actual'\n",
        "df_cm.columns.name = 'Predicted'\n",
        "plt.figure(figsize = (11,9))\n",
        "sns.set(font_scale = 0.7)\n",
        "cm = sns.heatmap(df_cm, cmap=\"Blues\", vmin=0, vmax=1)\n",
        "cm.axes.set_title(\"P300-Speller confusion matrix\\n\", fontsize=20)\n",
        "plt.show()"
      ],
      "execution_count": null,
      "outputs": [
        {
          "output_type": "display_data",
          "data": {
            "image/png": "[encoded data removed]",
            "text/plain": [
              "<Figure size 792x648 with 2 Axes>"
            ]
          },
          "metadata": {
            "tags": []
          }
        }
      ]
    }
  ]
}